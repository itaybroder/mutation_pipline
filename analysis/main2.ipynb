{
 "cells": [
  {
   "cell_type": "code",
   "execution_count": 1,
   "metadata": {},
   "outputs": [],
   "source": [
    "import pandas as pd\n",
    "import matplotlib.pyplot as plt\n",
    "import seaborn as sns\n",
    "import numpy as np \n",
    "import tqdm\n",
    "import collections\n",
    "from pandas.plotting import parallel_coordinates\n",
    "import json\n",
    "import tqdm"
   ]
  },
  {
   "cell_type": "code",
   "execution_count": 3,
   "metadata": {},
   "outputs": [],
   "source": [
    "base_df = pd.read_csv(\"../data/output_files/final_base_df.csv\")\n",
    "\n",
    "varient_list = [\"WILDTYPE\", \"Alpha B.1.1.7\",\n",
    "   \"Beta B.1.351\",\n",
    "   \"Gamma P.1\",\n",
    "   \"Kappa B.1.617.1\",\n",
    "   \"Delta B.1.617.2\",\n",
    "   \"Lambda C.37\",\n",
    "   \"Mu B.1.621\",\n",
    "   \"Omicron BA.1\",\n",
    "   \"Omicron BA.2\",\n",
    "   \"AY.4.2\",\n",
    "   \"C.1.2\",\n",
    "   \"Eta B.1.525\",\n",
    "   \"Iota B.1.526\",]\n",
    "base_df[\"varient\"].replace({\"original\":\"WILDTYPE\"}, inplace=True)"
   ]
  },
  {
   "cell_type": "code",
   "execution_count": 4,
   "metadata": {},
   "outputs": [
    {
     "name": "stderr",
     "output_type": "stream",
     "text": [
      "100%|██████████| 53094/53094 [09:08<00:00, 96.73it/s] \n"
     ]
    }
   ],
   "source": [
    "changed_peptides = []\n",
    "for i, row in tqdm.tqdm(base_df.iterrows(), total=len(base_df)):\n",
    "    try:\n",
    "        if(row[\"varient\"] == \"Omicron BA.1\" and row[\"start_pos\"] >= 214):\n",
    "            tmp = list(base_df[(base_df[\"varient\"] == \"original\")&(base_df[\"start_pos\"] == row[\"start_pos\"] -3)&(base_df[\"end_pos\"] == row[\"end_pos\"]-3)][\"peptide\"])[0]\n",
    "        else: \n",
    "            tmp = list(base_df[(base_df[\"varient\"] == \"original\")&(base_df[\"start_pos\"] == row[\"start_pos\"])&(base_df[\"end_pos\"] == row[\"end_pos\"])][\"peptide\"])[0]\n",
    "    except:\n",
    "        tmp = \"\"\n",
    "    if(row[\"peptide\"] != tmp):\n",
    "        changed_peptides.append(row[\"peptide\"])\n",
    "        changed_peptides.append(tmp)"
   ]
  },
  {
   "cell_type": "code",
   "execution_count": null,
   "metadata": {},
   "outputs": [],
   "source": [
    "\n",
    "filtered_df = base_df[base_df.peptide.isin(changed_peptides)]\n",
    "filtered_df.to_csv(\"../data/output_files/filtered_df.csv\")"
   ]
  },
  {
   "cell_type": "code",
   "execution_count": null,
   "metadata": {},
   "outputs": [],
   "source": [
    "# filtered_df = pd.read_csv(\"../data/output_files/filtered_df.csv\")"
   ]
  },
  {
   "cell_type": "code",
   "execution_count": null,
   "metadata": {},
   "outputs": [],
   "source": [
    "MHC_TYPES = [i for i in list(set(filtered_df.columns)) if i.startswith(\"H\")]"
   ]
  },
  {
   "cell_type": "code",
   "execution_count": null,
   "metadata": {},
   "outputs": [],
   "source": [
    "def json_txt_to_dict(file_path):\n",
    "    d = json.load(open(file_path))\n",
    "    return d\n",
    "mutation_dict = json_txt_to_dict(\"../data/vocs.txt\")"
   ]
  },
  {
   "cell_type": "markdown",
   "metadata": {},
   "source": [
    "# Insertions and Deletions"
   ]
  },
  {
   "cell_type": "markdown",
   "metadata": {},
   "source": [
    "deletions"
   ]
  },
  {
   "cell_type": "code",
   "execution_count": null,
   "metadata": {},
   "outputs": [],
   "source": [
    "deletions_pos_list = []\n",
    "for varient in mutation_dict.keys():\n",
    "    for mutation in mutation_dict[varient]:\n",
    "        if(mutation[-1] == \"-\"):\n",
    "            deletions_pos_list.append(int(mutation[1:-1]))\n"
   ]
  },
  {
   "cell_type": "code",
   "execution_count": null,
   "metadata": {},
   "outputs": [],
   "source": [
    "deleted_peptides = []\n",
    "for pos in deletions_pos_list:\n",
    "    for i,row in base_df[base_df[\"varient\"] == \"WILDTYPE\"].iterrows():\n",
    "        start_pos = row[\"start_pos\"]\n",
    "        end_pos = row[\"end_pos\"]\n",
    "        if(pos>=start_pos and pos<=end_pos):\n",
    "            deleted_peptides.append(row[\"peptide\"])"
   ]
  },
  {
   "cell_type": "markdown",
   "metadata": {},
   "source": [
    "insertions"
   ]
  },
  {
   "cell_type": "code",
   "execution_count": null,
   "metadata": {},
   "outputs": [],
   "source": [
    "insertion_pos = 214\n",
    "insetted_peptides = []\n",
    "for i,row in base_df[base_df[\"varient\"] == \"WILDTYPE\"].iterrows():\n",
    "    start_pos = row[\"start_pos\"]\n",
    "    end_pos = row[\"end_pos\"]\n",
    "    if(insertion_pos>=start_pos and insertion_pos<=end_pos):\n",
    "        insetted_peptides.append(row[\"peptide\"])"
   ]
  },
  {
   "cell_type": "markdown",
   "metadata": {},
   "source": [
    "plot"
   ]
  },
  {
   "cell_type": "code",
   "execution_count": null,
   "metadata": {},
   "outputs": [],
   "source": [
    "binder_inserted_counter = 0\n",
    "for i,row in base_df[base_df[\"varient\"] == \"WILDTYPE\"].iterrows():\n",
    "    start_pos = row[\"start_pos\"]\n",
    "    end_pos = row[\"end_pos\"]\n",
    "    if(insertion_pos>=start_pos and insertion_pos<=end_pos):\n",
    "        for mhc_type in MHC_TYPES:\n",
    "            if(row[mhc_type]<=2):\n",
    "                binder_inserted_counter+=1\n",
    "binder_inserted_counter"
   ]
  },
  {
   "cell_type": "code",
   "execution_count": null,
   "metadata": {},
   "outputs": [],
   "source": [
    "binder_deleted_counter = 0\n",
    "for pos in deletions_pos_list:\n",
    "    for i,row in base_df[base_df[\"varient\"] == \"WILDTYPE\"].iterrows():\n",
    "        start_pos = row[\"start_pos\"]\n",
    "        end_pos = row[\"end_pos\"]\n",
    "        if(pos>=start_pos and pos<=end_pos):\n",
    "            for mhc_type in MHC_TYPES:\n",
    "                if(row[mhc_type]<=2):\n",
    "                    binder_deleted_counter+=1\n",
    "binder_deleted_counter"
   ]
  },
  {
   "cell_type": "code",
   "execution_count": null,
   "metadata": {},
   "outputs": [],
   "source": [
    "added_delted_df = pd.DataFrame([[\"insertions\", binder_inserted_counter], [\"deletions\", binder_deleted_counter]], columns=[\"type\", \"count\"])"
   ]
  },
  {
   "cell_type": "code",
   "execution_count": null,
   "metadata": {},
   "outputs": [],
   "source": [
    "sns.set_theme(style=\"whitegrid\")\n",
    "sns.set(rc = {'figure.figsize':(25,8)})\n",
    "sns.set(font_scale = 1.2)\n",
    "ax = sns.barplot(x=\"type\", y=\"count\", data=added_delted_df)\n",
    "\n",
    "ax.set_title('Number of binders')\n",
    "plt.legend(bbox_to_anchor=(1.02, 1), loc='upper left', borderaxespad=0)\n",
    "plt.savefig(\"plots/chopped-varient.png\", dpi=500, bbox_inches='tight')"
   ]
  },
  {
   "cell_type": "markdown",
   "metadata": {},
   "source": [
    "# Parallel plot"
   ]
  },
  {
   "cell_type": "code",
   "execution_count": null,
   "metadata": {},
   "outputs": [],
   "source": [
    "binder_peptides = set()\n",
    "for i, row in filtered_df[filtered_df[\"varient\"] == \"WILDTYPE\"].iterrows():\n",
    "    for mhc_type in MHC_TYPES:\n",
    "        if(row[mhc_type] <= 2):\n",
    "            binder_peptides.add(row[\"peptide\"])"
   ]
  },
  {
   "cell_type": "code",
   "execution_count": null,
   "metadata": {},
   "outputs": [],
   "source": [
    "varients_dict = dict([(j,i ) for i, j in enumerate(varient_list)])\n",
    "\n",
    "parallel_df = filtered_df[filtered_df.peptide.isin(binder_peptides)][MHC_TYPES + [\"varient\"]]\n",
    "parallel_df[\"varient\"] = parallel_df[\"varient\"].apply(lambda x: varients_dict[x])\n",
    "\n",
    "row90 = dict([(i,90) for i in MHC_TYPES] + [(\"varient\", None)])\n",
    "row0 = dict([(i,0) for i in MHC_TYPES] + [(\"varient\", None)])\n",
    "parallel_df = parallel_df.append(row90, ignore_index=True)\n",
    "parallel_df = parallel_df.append(row0, ignore_index=True)"
   ]
  },
  {
   "cell_type": "code",
   "execution_count": null,
   "metadata": {},
   "outputs": [],
   "source": [
    "display(parallel_df)"
   ]
  },
  {
   "cell_type": "code",
   "execution_count": null,
   "metadata": {},
   "outputs": [],
   "source": [
    "import plotly.express as px\n",
    "\n",
    "fig = px.parallel_coordinates(parallel_df, color=\"varient\", \n",
    "                             color_continuous_scale=px.colors.diverging.Tealrose,\n",
    "                             color_continuous_midpoint=2, width=1450)\n",
    "fig.show()\n",
    "plt.savefig(\"plots/parallel_plot\", dpi=500, bbox_inches='tight')"
   ]
  },
  {
   "cell_type": "markdown",
   "metadata": {},
   "source": [
    "# Rom"
   ]
  },
  {
   "cell_type": "code",
   "execution_count": null,
   "metadata": {},
   "outputs": [],
   "source": [
    "wt_binders_peptides = []\n",
    "for i, row in base_df[base_df[\"varient\"] == \"WILDTYPE\"].iterrows():\n",
    "    for mhc_type in MHC_TYPES:\n",
    "        if(row[mhc_type] <=2):\n",
    "           wt_binders_peptides.append({\"start_pos\":row[\"start_pos\"], \"end_pos\":row[\"end_pos\"], \"mhc_type\":mhc_type, \"varient\":row[\"varient\"], \"peptide\":row[\"peptide\"]})"
   ]
  },
  {
   "cell_type": "code",
   "execution_count": null,
   "metadata": {},
   "outputs": [],
   "source": [
    "new_list = []\n",
    "for i, row in base_df.iterrows():\n",
    "    tmp_list = []\n",
    "    for mhc_type in MHC_TYPES:\n",
    "        #tmp_list.append(row[mhc_type])    \n",
    "        new_list.append([row[mhc_type], mhc_type, row[\"varient\"], row[\"peptide\"], row[\"start_pos\"], row[\"end_pos\"]])\n",
    "\n",
    "\n",
    "cols = [\"rank\", \"mhc_type\", \"varient\", \"peptide\", \"start_pos\", \"end_pos\"]\n",
    "box_df = pd.DataFrame(new_list, columns=cols)\n",
    "box_df_omicron = box_df[(box_df[\"varient\"] == \"Omicron BA.1\") & (box_df[\"start_pos\"] >= 214)]\n",
    "box_df_without_omicron = box_df[box_df[\"varient\"] != \"Omicron BA.1\"]"
   ]
  },
  {
   "cell_type": "code",
   "execution_count": null,
   "metadata": {},
   "outputs": [],
   "source": [
    "binders_df = pd.DataFrame([], columns = [\"rank\", \"mhc_type\", \"varient\", \"peptide\"])\n",
    "\n",
    "for peptide_dict in tqdm.tqdm(wt_binders_peptides):\n",
    "    for mhc_type in MHC_TYPES:\n",
    "        interesting_rows_omicron = box_df_omicron[(box_df_omicron[\"mhc_type\"] == peptide_dict[\"mhc_type\"]) & (box_df_omicron[\"start_pos\"] == peptide_dict[\"start_pos\"]+3)& (box_df_omicron[\"end_pos\"] == peptide_dict[\"end_pos\"]+3)]\n",
    "        interesting_rows = box_df_without_omicron[(box_df_without_omicron[\"mhc_type\"] == peptide_dict[\"mhc_type\"]) & (box_df_without_omicron[\"start_pos\"] == peptide_dict[\"start_pos\"])& (box_df_without_omicron[\"end_pos\"] == peptide_dict[\"end_pos\"])]\n",
    "    binders_df = pd.concat([binders_df, interesting_rows])\n",
    "    binders_df = pd.concat([binders_df, interesting_rows_omicron])\n",
    "    \n",
    "#binders_df.drop_duplicates(inplace = True)\n",
    "display(binders_df)"
   ]
  },
  {
   "cell_type": "code",
   "execution_count": null,
   "metadata": {},
   "outputs": [],
   "source": [
    "binders_df[binders_df[\"start_pos\"] >= 214]\n"
   ]
  },
  {
   "cell_type": "code",
   "execution_count": null,
   "metadata": {},
   "outputs": [],
   "source": [
    "#{'start_pos': 311, 'end_pos': 319, 'mhc_type': 'HLA-A*03:01_rank', 'varient': 'WILDTYPE', 'peptide': 'GIYQTSNFR'}\n",
    "box_df_omicron[(box_df[\"peptide\"] == \"GIYQTSNFR\")] "
   ]
  },
  {
   "cell_type": "code",
   "execution_count": null,
   "metadata": {},
   "outputs": [],
   "source": [
    "labels = varient_list\n",
    "\n",
    "sns.set_theme(style=\"whitegrid\")\n",
    "\n",
    "sns.set(font_scale = 1.3)\n",
    "plt.figure(figsize = (30,10))\n",
    "\n",
    "ax = sns.boxplot(x=\"varient\", y=\"rank\",\n",
    "                 data=binders_df, palette=\"Set3\", showfliers=False)\n",
    "\n",
    "ax.set_yscale(\"log\")\n",
    "ax = sns.stripplot(x=\"varient\", y=\"rank\",  data=binders_df, ax=ax, palette=\"Set2\", split=True, jitter=0.2, alpha=0.6)\n",
    "\n",
    "plt.savefig(\"plots/chopped-rank-boxplot_unique_hla\", dpi=500, bbox_inches='tight')"
   ]
  }
 ],
 "metadata": {
  "interpreter": {
   "hash": "a8b226d70e0bf4bf2c26cc88f5d7b41a5689a86d8c70c730eebfc7443e5307d4"
  },
  "kernelspec": {
   "display_name": "Python 3.10.1 64-bit",
   "language": "python",
   "name": "python3"
  },
  "language_info": {
   "codemirror_mode": {
    "name": "ipython",
    "version": 3
   },
   "file_extension": ".py",
   "mimetype": "text/x-python",
   "name": "python",
   "nbconvert_exporter": "python",
   "pygments_lexer": "ipython3",
   "version": "3.10.1"
  },
  "orig_nbformat": 4
 },
 "nbformat": 4,
 "nbformat_minor": 2
}
