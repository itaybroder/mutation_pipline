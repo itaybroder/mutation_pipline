{
 "cells": [
  {
   "cell_type": "code",
   "execution_count": 1,
   "metadata": {},
   "outputs": [],
   "source": [
    "\n",
    "\n",
    "import pandas as pd\n",
    "import matplotlib.pyplot as plt\n",
    "import seaborn as sns\n",
    "import numpy as np \n",
    "import tqdm\n",
    "import collections"
   ]
  },
  {
   "cell_type": "code",
   "execution_count": 2,
   "metadata": {},
   "outputs": [],
   "source": [
    "base_df = pd.read_csv(\"../data/output_files/final_base_df.csv\")"
   ]
  },
  {
   "cell_type": "code",
   "execution_count": 3,
   "metadata": {},
   "outputs": [],
   "source": [
    "varient_list = [\"WILDTYPE\", \"Alpha B.1.1.7\",\n",
    "   \"Beta B.1.351\",\n",
    "   \"Gamma P.1\",\n",
    "   \"Kappa B.1.617.1\",\n",
    "   \"Delta B.1.617.2\",\n",
    "   \"Lambda C.37\",\n",
    "   \"Mu B.1.621\",\n",
    "   \"Omicron BA.1\",\n",
    "   \"Omicron BA.2\",\n",
    "   \"AY.4.2\",\n",
    "   \"C.1.2\",\n",
    "   \"Eta B.1.525\",\n",
    "   \"Iota B.1.526\",]"
   ]
  },
  {
   "cell_type": "code",
   "execution_count": null,
   "metadata": {},
   "outputs": [
    {
     "name": "stderr",
     "output_type": "stream",
     "text": [
      " 51%|█████     | 27012/53094 [01:47<01:42, 255.51it/s]"
     ]
    }
   ],
   "source": [
    "changed_peptides = []\n",
    "for i, row in tqdm.tqdm(base_df.iterrows(), total=len(base_df)):\n",
    "    try:\n",
    "        if(row[\"varient\"] == \"Omicron BA.1\" and row[\"start_pos\"] >= 214):\n",
    "            tmp = list(base_df[(base_df[\"varient\"] == \"original\")&(base_df[\"start_pos\"] == row[\"start_pos\"] -3)&(base_df[\"end_pos\"] == row[\"end_pos\"]-3)][\"peptide\"])[0]\n",
    "        else: \n",
    "            tmp = list(base_df[(base_df[\"varient\"] == \"original\")&(base_df[\"start_pos\"] == row[\"start_pos\"])&(base_df[\"end_pos\"] == row[\"end_pos\"])][\"peptide\"])[0]\n",
    "    except:\n",
    "        print(\"no peptide\")\n",
    "        tmp = \"\"\n",
    "    if(row[\"peptide\"] != tmp):\n",
    "        changed_peptides.append(row[\"peptide\"])\n",
    "        changed_peptides.append(tmp)\n",
    "print(changed_peptides) "
   ]
  },
  {
   "cell_type": "code",
   "execution_count": null,
   "metadata": {},
   "outputs": [],
   "source": [
    "base_df[\"varient\"].replace({\"original\":\"WILDTYPE\"}, inplace=True)\n",
    "print(set(base_df[\"varient\"]))"
   ]
  },
  {
   "cell_type": "code",
   "execution_count": null,
   "metadata": {},
   "outputs": [],
   "source": [
    "filtered_df = base_df[base_df.peptide.isin(changed_peptides)]\n",
    "display(filtered_df)"
   ]
  },
  {
   "cell_type": "code",
   "execution_count": null,
   "metadata": {
    "pycharm": {
     "name": "#%%\n"
    }
   },
   "outputs": [],
   "source": [
    "filtered_df.to_csv(\"../data/output_files/filtered_df.csv\")"
   ]
  },
  {
   "cell_type": "markdown",
   "metadata": {},
   "source": [
    "# Chopped analysis"
   ]
  },
  {
   "cell_type": "markdown",
   "metadata": {},
   "source": [
    "number of chopped by varient"
   ]
  },
  {
   "cell_type": "code",
   "execution_count": null,
   "metadata": {},
   "outputs": [],
   "source": [
    "varient_chopped_counter = {}\n",
    "for varient in varient_list:\n",
    "    chopped_counter = len(filtered_df[(filtered_df[\"varient\"] == varient )&(filtered_df[\"Chopped\"] == True)])\n",
    "    not_chopped_counter = len(filtered_df[(filtered_df[\"varient\"] == varient) & (filtered_df[\"Chopped\"] == False)])\n",
    "    varient_chopped_counter[varient] = {\"chopped\":chopped_counter, \"not chopped\":not_chopped_counter}\n",
    "\n",
    "print(varient_chopped_counter)"
   ]
  },
  {
   "cell_type": "code",
   "execution_count": null,
   "metadata": {},
   "outputs": [],
   "source": [
    "cols = [\"varient\", \"Chopped?\",\"count\" ]\n",
    "rows = []\n",
    "for var in varient_chopped_counter:\n",
    "    rows.append([var, \"chopped\", varient_chopped_counter[var][\"chopped\"]])\n",
    "    rows.append([var, \"not chopped\", varient_chopped_counter[var][\"not chopped\"]])\n",
    "chopped_counter_df = pd.DataFrame(rows, columns=cols)"
   ]
  },
  {
   "cell_type": "markdown",
   "metadata": {},
   "source": [
    "% of chopped by original"
   ]
  },
  {
   "cell_type": "code",
   "execution_count": null,
   "metadata": {},
   "outputs": [],
   "source": [
    "cols = [\"varient\", \"Chopped?\",\"count\" ]\n",
    "rows = []\n",
    "\n",
    "original_chopped_counter = varient_chopped_counter[\"WILDTYPE\"][\"chopped\"]\n",
    "original_not_chopped_counter = varient_chopped_counter[\"WILDTYPE\"][\"not chopped\"]\n",
    "\n",
    "for var in varient_chopped_counter:\n",
    "    chopped_counter = varient_chopped_counter[var][\"chopped\"]\n",
    "    not_chopped_counter = varient_chopped_counter[var][\"not chopped\"]\n",
    "    rows.append([var, \"chopped\", 100*(chopped_counter/original_chopped_counter)-100])\n",
    "    rows.append([var, \"not chopped\",100*not_chopped_counter/original_not_chopped_counter-100])\n",
    "chopped_counter_df = pd.DataFrame(rows, columns=cols)"
   ]
  },
  {
   "cell_type": "code",
   "execution_count": null,
   "metadata": {},
   "outputs": [],
   "source": [
    "sns.set_theme(style=\"whitegrid\")\n",
    "sns.set(rc = {'figure.figsize':(25,8)})\n",
    "sns.set(font_scale = 1.2)\n",
    "ax = sns.barplot(x=\"varient\", y=\"count\", hue=\"Chopped?\", data=chopped_counter_df)\n",
    "\n",
    "ax.set_title('precentage of chopped values changes comapred to the orignal protien')\n",
    "plt.legend(bbox_to_anchor=(1.02, 1), loc='upper left', borderaxespad=0)\n",
    "plt.savefig(\"plots/chopped-varient.png\", dpi=500, bbox_inches='tight')\n"
   ]
  },
  {
   "cell_type": "markdown",
   "metadata": {},
   "source": [
    "# bro"
   ]
  },
  {
   "cell_type": "code",
   "execution_count": null,
   "metadata": {},
   "outputs": [],
   "source": [
    "varient_chopped_counter = {}\n",
    "for varient in varient_list:\n",
    "    chopped_counter = len(filtered_df[(filtered_df[\"varient\"] == varient )&(filtered_df[\"Potential\"] > 0)])\n",
    "    not_chopped_counter = len(filtered_df[(filtered_df[\"varient\"] == varient) & (filtered_df[\"Potential\"] == 0)])\n",
    "    varient_chopped_counter[varient] = {\"chopped\":chopped_counter, \"not chopped\":not_chopped_counter}\n",
    "\n",
    "print(varient_chopped_counter)"
   ]
  },
  {
   "cell_type": "code",
   "execution_count": null,
   "metadata": {},
   "outputs": [],
   "source": [
    "cols = [\"varient\", \"Chopped?\",\"count\" ]\n",
    "rows = []\n",
    "for var in varient_chopped_counter:\n",
    "    rows.append([var, \"N-glycolized\", varient_chopped_counter[var][\"chopped\"]])\n",
    "    rows.append([var, \"not N-glycolized\", varient_chopped_counter[var][\"not chopped\"]])\n",
    "chopped_counter_df = pd.DataFrame(rows, columns=cols)"
   ]
  },
  {
   "cell_type": "markdown",
   "metadata": {},
   "source": [
    "% of chopped by original"
   ]
  },
  {
   "cell_type": "code",
   "execution_count": null,
   "metadata": {},
   "outputs": [],
   "source": [
    "cols = [\"varient\", \"Chopped?\",\"count\" ]\n",
    "rows = []\n",
    "\n",
    "original_chopped_counter = varient_chopped_counter[\"WILDTYPE\"][\"chopped\"]\n",
    "original_not_chopped_counter = varient_chopped_counter[\"WILDTYPE\"][\"not chopped\"]\n",
    "\n",
    "for var in varient_chopped_counter:\n",
    "    chopped_counter = varient_chopped_counter[var][\"chopped\"]\n",
    "    not_chopped_counter = varient_chopped_counter[var][\"not chopped\"]\n",
    "    rows.append([var, \"N-glycolized\", 100*(chopped_counter/original_chopped_counter)-100])\n",
    "    rows.append([var, \"not N-glycolized\",100*not_chopped_counter/original_not_chopped_counter-100])\n",
    "chopped_counter_df = pd.DataFrame(rows, columns=cols)"
   ]
  },
  {
   "cell_type": "code",
   "execution_count": null,
   "metadata": {},
   "outputs": [],
   "source": [
    "sns.set_theme(style=\"whitegrid\")\n",
    "sns.set(rc = {'figure.figsize':(25,8)})\n",
    "sns.set(font_scale = 1.2)\n",
    "ax = sns.barplot(x=\"varient\", y=\"count\", hue=\"Chopped?\", data=chopped_counter_df)\n",
    "\n",
    "ax.set_title('precentage of glyc values changes comapre to the orignal protien')\n",
    "plt.legend(bbox_to_anchor=(1.02, 1), loc='upper left', borderaxespad=0)\n",
    "plt.savefig(\"plots/glyc-varient.png\", dpi=500, bbox_inches='tight')\n"
   ]
  },
  {
   "cell_type": "markdown",
   "metadata": {},
   "source": [
    "# NetMHCPan anlysis"
   ]
  },
  {
   "cell_type": "code",
   "execution_count": null,
   "metadata": {},
   "outputs": [],
   "source": []
  },
  {
   "cell_type": "markdown",
   "metadata": {},
   "source": [
    "boxplor ranks mean"
   ]
  },
  {
   "cell_type": "code",
   "execution_count": null,
   "metadata": {},
   "outputs": [],
   "source": [
    "MHC_TYPES = [i for i in list(set(filtered_df.columns)) if i.startswith(\"H\")]\n"
   ]
  },
  {
   "cell_type": "code",
   "execution_count": null,
   "metadata": {},
   "outputs": [],
   "source": [
    "new_list = []\n",
    "for i, row in filtered_df.iterrows():\n",
    "    tmp_list = []\n",
    "    for mhc_type in MHC_TYPES:\n",
    "        #tmp_list.append(row[mhc_type])    \n",
    "        new_list.append([row[mhc_type], row[\"varient\"], row[\"peptide\"]])\n",
    "\n",
    "\n",
    "cols = [\"rank\", \"varient\", \"peptide\"]\n",
    "box_df = pd.DataFrame(new_list, columns=cols)\n",
    "binders_df = box_df[box_df[\"rank\"] <=2]\n",
    "binders_peptides = set(binders_df[\"peptide\"])\n",
    "\n"
   ]
  },
  {
   "cell_type": "code",
   "execution_count": null,
   "metadata": {},
   "outputs": [],
   "source": [
    "new_list = []\n",
    "for i, row in base_df[base_df.peptide.isin(binders_peptides)].iterrows():\n",
    "    tmp_list = []\n",
    "    for mhc_type in MHC_TYPES:\n",
    "        #tmp_list.append(row[mhc_type])    \n",
    "        new_list.append([row[mhc_type], row[\"varient\"]])\n",
    "\n",
    "\n",
    "cols = [\"rank\", \"varient\"]\n",
    "box_df = pd.DataFrame(new_list, columns=cols)\n",
    "display(box_df)"
   ]
  },
  {
   "cell_type": "code",
   "execution_count": null,
   "metadata": {},
   "outputs": [],
   "source": [
    "labels = varient_list\n",
    "\n",
    "sns.set_theme(style=\"whitegrid\")\n",
    "\n",
    "sns.set(font_scale = 1.3)\n",
    "plt.figure(figsize = (30,10))\n",
    "\n",
    "ax = sns.boxplot(x=\"varient\", y=\"rank\",\n",
    "                 data=box_df, palette=\"Set3\")\n",
    "\n",
    "ax = sns.stripplot(x=\"varient\", y=\"rank\",  data=box_df, ax=ax, palette=\"Set2\", split=True, jitter=0.2, alpha=0.6)\n",
    "\n",
    "plt.savefig(\"plots/chopped-rank-boxplot\", dpi=500, bbox_inches='tight')"
   ]
  },
  {
   "cell_type": "code",
   "execution_count": null,
   "metadata": {},
   "outputs": [],
   "source": []
  },
  {
   "cell_type": "markdown",
   "metadata": {},
   "source": [
    "binders change"
   ]
  },
  {
   "cell_type": "code",
   "execution_count": null,
   "metadata": {},
   "outputs": [],
   "source": [
    "varient_binders_dict = {}\n",
    "for var in varient_list:\n",
    "    if(var == \"WILDTYPE\"):\n",
    "        varient_binders_dict[\"WILDTYPE\"] = {\"binder\": len(box_df[(box_df[\"varient\"] == var) & (box_df[\"rank\"] <=2)]), \"not binder\":len(box_df[(box_df[\"varient\"] == var) & (box_df[\"rank\"] >2)])}\n",
    "    else:\n",
    "        varient_binders_dict[var] = {\"binder\": len(box_df[(box_df[\"varient\"] == var) & (box_df[\"rank\"] <=2)]), \"not binder\":len(box_df[(box_df[\"varient\"] == var) & (box_df[\"rank\"] >2)])}\n",
    "\n",
    "print(varient_binders_dict)"
   ]
  },
  {
   "cell_type": "code",
   "execution_count": null,
   "metadata": {},
   "outputs": [],
   "source": [
    "cols = [\"varient\", \"Chopped?\",\"count\" ]\n",
    "rows = []\n",
    "for var in varient_binders_dict:\n",
    "    rows.append([var, \"strong\", varient_binders_dict[var][\"binder\"]])\n",
    "    rows.append([var, \"non\", varient_binders_dict[var][\"not binder\"]])\n",
    "chopped_counter_df = pd.DataFrame(rows, columns=cols)"
   ]
  },
  {
   "cell_type": "markdown",
   "metadata": {},
   "source": [
    "% of chopped by original"
   ]
  },
  {
   "cell_type": "code",
   "execution_count": null,
   "metadata": {},
   "outputs": [],
   "source": [
    "cols = [\"varient\", \"Chopped?\",\"count\" ]\n",
    "rows = []\n",
    "\n",
    "original_chopped_counter = varient_binders_dict[\"WILDTYPE\"][\"binder\"]\n",
    "original_non_chopped_counter = varient_binders_dict[\"WILDTYPE\"][\"not binder\"]\n",
    "for var in varient_binders_dict:\n",
    "    chopped_counter = varient_binders_dict[var][\"binder\"]\n",
    "    non_chopped_counter = varient_binders_dict[var][\"not binder\"]\n",
    "    rows.append([var, \"strong\", 100*(chopped_counter/original_chopped_counter)-100])\n",
    "    rows.append([var, \"not_binder\",100*non_chopped_counter/original_non_chopped_counter-100])\n",
    "chopped_counter_df = pd.DataFrame(rows, columns=cols)"
   ]
  },
  {
   "cell_type": "code",
   "execution_count": null,
   "metadata": {},
   "outputs": [],
   "source": [
    "sns.set_theme(style=\"whitegrid\")\n",
    "sns.set(rc = {'figure.figsize':(25,8)})\n",
    "sns.set(font_scale = 1.2)\n",
    "ax = sns.barplot(x=\"varient\", y=\"count\", hue=\"Chopped?\", data=chopped_counter_df)\n",
    "\n",
    "ax.set_title('precentage of binder changes comapred to the orignal protien')\n",
    "plt.legend(bbox_to_anchor=(1.02, 1), loc='upper left', borderaxespad=0, title=\"type?\")\n",
    "plt.savefig(\"plots/varient-binders-change.png\", dpi=500, bbox_inches='tight')\n"
   ]
  },
  {
   "cell_type": "code",
   "execution_count": null,
   "metadata": {},
   "outputs": [],
   "source": [
    "def get_tupels(base_df):\n",
    "    touples_list = []\n",
    "    for i, row in base_df.iterrows():\n",
    "        touples_list.append((row[\"start_pos\"], row[\"end_pos\"]))\n",
    "    return touples_list"
   ]
  },
  {
   "cell_type": "code",
   "execution_count": null,
   "metadata": {},
   "outputs": [],
   "source": [
    "added_poistions = set(get_tupels(base_df)) - set(get_tupels(base_df[base_df[\"varient\"] == \"original\"])) "
   ]
  },
  {
   "cell_type": "code",
   "execution_count": null,
   "metadata": {},
   "outputs": [],
   "source": [
    "pos_list = []\n",
    "for pos in added_poistions:\n",
    "    start_pos, end_pos = pos\n",
    "    pos_list.append(int(base_df[(base_df[\"start_pos\"] == start_pos) & (base_df[\"end_pos\"] == end_pos)][\"Unnamed: 0\"]))\n",
    "\n"
   ]
  },
  {
   "cell_type": "code",
   "execution_count": null,
   "metadata": {},
   "outputs": [],
   "source": [
    "added_df = base_df[base_df[\"Unnamed: 0\"].isin(pos_list)]\n"
   ]
  },
  {
   "cell_type": "code",
   "execution_count": null,
   "metadata": {},
   "outputs": [],
   "source": [
    "len(added_df[added_df[\"Chopped\"] == True])/len(added_df)\n",
    "len(added_df[added_df[\"Chopped\"] == True])/len(added_df)"
   ]
  },
  {
   "cell_type": "code",
   "execution_count": null,
   "metadata": {},
   "outputs": [],
   "source": [
    "rows=[]\n",
    "\n",
    "rows.append([\"chopped\", len(added_df[added_df[\"Chopped\"] == True])/len(added_df)*100])\n",
    "rows.append([\"n-glycolized\", len(added_df[added_df[\"Potential\"] > 0])/len(added_df)*100])\n",
    "\n",
    "new_df_df = pd.DataFrame(rows, columns=[\"type\", \"precentage\"])\n",
    "\n",
    "print(rows)"
   ]
  },
  {
   "cell_type": "code",
   "execution_count": null,
   "metadata": {},
   "outputs": [],
   "source": [
    "sns.set_theme(style=\"whitegrid\")\n",
    "sns.set(rc = {'figure.figsize':(25,8)})\n",
    "sns.set(font_scale = 1.2)\n",
    "\n",
    "ax = sns.barplot(x=\"type\", y=\"precentage\", data=new_df_df)\n",
    "ax.set(ylim=(0,100))\n",
    "\n",
    "\n",
    "plt.savefig(\"plots/lalalalaal.png\", dpi=500, bbox_inches='tight')"
   ]
  },
  {
   "cell_type": "code",
   "execution_count": null,
   "metadata": {},
   "outputs": [],
   "source": [
    "deleted_poistions = set(get_tupels(base_df[base_df[\"varient\"] == \"original\"])) -set(get_tupels(base_df[base_df[\"varient\"] != \"original\"])) \n",
    "print(len(deleted_poistions))\n"
   ]
  },
  {
   "cell_type": "markdown",
   "metadata": {
    "pycharm": {
     "name": "#%% md\n"
    }
   },
   "source": [
    "# MHCPAN by category"
   ]
  },
  {
   "cell_type": "code",
   "execution_count": null,
   "metadata": {
    "pycharm": {
     "name": "#%%\n"
    }
   },
   "outputs": [],
   "source": [
    "def get_binder_type(val):\n",
    "    if val < 2:\n",
    "        return \"Strong Binder\"\n",
    "    elif val < 5:\n",
    "        return \"Weak Binder\"\n",
    "    else:\n",
    "        return \"Non Binder\""
   ]
  },
  {
   "cell_type": "code",
   "execution_count": null,
   "metadata": {
    "pycharm": {
     "name": "#%%\n"
    }
   },
   "outputs": [],
   "source": [
    "mhcpan_by_category = collections.defaultdict(dict)\n",
    "\n",
    "for i, row in tqdm.tqdm(filtered_df.iterrows(), total=len(filtered_df)):\n",
    "    for mhc_type in MHC_TYPES:\n",
    "        if \"Strong Binder\" not in mhcpan_by_category[mhc_type]:\n",
    "            mhcpan_by_category[mhc_type][\"Strong Binder\"] = 0\n",
    "        if \"Weak Binder\" not in mhcpan_by_category[mhc_type]:\n",
    "            mhcpan_by_category[mhc_type][\"Weak Binder\"] = 0\n",
    "        if \"Non Binder\" not in mhcpan_by_category[mhc_type]:\n",
    "            mhcpan_by_category[mhc_type][\"Non Binder\"] = 0\n",
    "\n",
    "        val = row[mhc_type]\n",
    "        mhcpan_by_category[mhc_type][get_binder_type(val)] += 1"
   ]
  },
  {
   "cell_type": "code",
   "execution_count": null,
   "metadata": {
    "pycharm": {
     "name": "#%%\n"
    }
   },
   "outputs": [],
   "source": [
    "mhc_rows = [[mhc_type,\"tt\", mhcpan_by_category[mhc_type][\"Strong Binder\"],\n",
    "             mhcpan_by_category[mhc_type][\"Weak Binder\"],\n",
    "             mhcpan_by_category[mhc_type][\"Non Binder\"]] for mhc_type in MHC_TYPES]\n",
    "mhc_cols = [\"mhc_type\",\"tt\", \"Strong Binder\", \"Weak Binder\", \"Non Binder\"]\n",
    "\n",
    "mhcpan_by_category_df = pd.DataFrame(mhc_rows, columns=mhc_cols)"
   ]
  },
  {
   "cell_type": "code",
   "execution_count": null,
   "metadata": {
    "pycharm": {
     "name": "#%%\n"
    }
   },
   "outputs": [],
   "source": [
    "# ax.set(yscale=\"log\")\n",
    "# ax = sns.barplot(stacked=True, data=mhcpan_by_category_df)\n",
    "ax = mhcpan_by_category_df.set_index('mhc_type').plot(kind='bar', stacked=True)\n",
    "ax.set(yscale=\"log\")\n",
    "plt.legend(bbox_to_anchor=(1.02, 1), loc='upper left', borderaxespad=0)\n",
    "plt.savefig(\"plots/mhc_type_by_category_log\", dpi=500, bbox_inches='tight')\n"
   ]
  },
  {
   "cell_type": "markdown",
   "metadata": {
    "pycharm": {
     "name": "#%% md\n"
    }
   },
   "source": [
    "# Bar Plot for chopped and mhcpan"
   ]
  },
  {
   "cell_type": "code",
   "execution_count": null,
   "metadata": {
    "pycharm": {
     "name": "#%%\n"
    }
   },
   "outputs": [],
   "source": [
    "\n",
    "\n",
    "mhcpan_by_category = collections.defaultdict(dict)\n",
    "for i, row in tqdm.tqdm(filtered_df.iterrows(), total=len(filtered_df)):\n",
    "    chopped = row[\"Chopped\"]\n",
    "    if \"Strong Binder\" not in mhcpan_by_category[chopped]:\n",
    "        mhcpan_by_category[chopped][\"Strong Binder\"] = 0\n",
    "    if \"Weak Binder\" not in mhcpan_by_category[chopped]:\n",
    "        mhcpan_by_category[chopped][\"Weak Binder\"] = 0\n",
    "    if \"Non Binder\" not in mhcpan_by_category[chopped]:\n",
    "        mhcpan_by_category[chopped][\"Non Binder\"] = 0\n",
    "\n",
    "    val = row[mhc_type]\n",
    "    mhcpan_by_category[chopped][get_binder_type(val)] += 1\n",
    "\n",
    "mhc_rows = []\n",
    "for chopped in [True, False]:\n",
    "    for binder_type in [\"Strong Binder\", \"Weak Binder\", \"Non Binder\"]:\n",
    "        mhc_rows.append([chopped, binder_type, mhcpan_by_category[chopped][binder_type]])\n",
    "# mhc_rows = [[mhc_type, mhcpan_by_category[mhc_type][\"Strong Binder\"],\n",
    "#              mhcpan_by_category[mhc_type][\"Weak Binder\"],\n",
    "#              mhcpan_by_category[mhc_type][\"Non Binder\"]] for mhc_type in [True, False]]\n",
    "# mhc_cols = [\"Chopped\", \"Strong Binder\", \"Weak Binder\", \"Non Binder\"]\n",
    "mhc_cols = [\"Chopped\", \"Binder\", \"count\"]\n",
    "\n",
    "mhcpan_by_category_df = pd.DataFrame(mhc_rows, columns=mhc_cols)"
   ]
  },
  {
   "cell_type": "code",
   "execution_count": null,
   "metadata": {
    "pycharm": {
     "name": "#%%\n"
    }
   },
   "outputs": [],
   "source": [
    "sns.set_theme(style=\"whitegrid\")\n",
    "sns.set(rc = {'figure.figsize':(25,8)})\n",
    "sns.set(font_scale = 1.2)\n",
    "\n",
    "ax = sns.barplot(x=\"Chopped\", y=\"count\", hue=\"Binder\", data=mhcpan_by_category_df)\n",
    "ax.set(yscale=\"log\")\n",
    "ax.set_title('NETMHCPAN score types count by chopped type')\n",
    "\n",
    "plt.legend(bbox_to_anchor=(1.02, 1), loc='upper left', borderaxespad=0)\n",
    "plt.savefig(\"plots/NETMHCPAN_score_types_count_chopped\", dpi=500, bbox_inches='tight')\n",
    "\n"
   ]
  },
  {
   "cell_type": "markdown",
   "metadata": {},
   "source": [
    "# Bar Plot for Glyc and mhcpan"
   ]
  },
  {
   "cell_type": "code",
   "execution_count": null,
   "metadata": {
    "pycharm": {
     "name": "#%%\n"
    }
   },
   "outputs": [],
   "source": [
    "\n",
    "\n",
    "mhcpan_by_category = collections.defaultdict(dict)\n",
    "for i, row in tqdm.tqdm(filtered_df.iterrows(), total=len(filtered_df)):\n",
    "    chopped = row[\"Potential\"] > 0\n",
    "    if \"Strong Binder\" not in mhcpan_by_category[chopped]:\n",
    "        mhcpan_by_category[chopped][\"Strong Binder\"] = 0\n",
    "    if \"Weak Binder\" not in mhcpan_by_category[chopped]:\n",
    "        mhcpan_by_category[chopped][\"Weak Binder\"] = 0\n",
    "    if \"Non Binder\" not in mhcpan_by_category[chopped]:\n",
    "        mhcpan_by_category[chopped][\"Non Binder\"] = 0\n",
    "\n",
    "    val = row[mhc_type]\n",
    "    mhcpan_by_category[chopped][get_binder_type(val)] += 1\n",
    "\n",
    "mhc_rows = []\n",
    "for chopped in [True, False]:\n",
    "    for binder_type in [\"Strong Binder\", \"Weak Binder\", \"Non Binder\"]:\n",
    "        mhc_rows.append([chopped, binder_type, mhcpan_by_category[chopped][binder_type]])\n",
    "# mhc_rows = [[mhc_type, mhcpan_by_category[mhc_type][\"Strong Binder\"],\n",
    "#              mhcpan_by_category[mhc_type][\"Weak Binder\"],\n",
    "#              mhcpan_by_category[mhc_type][\"Non Binder\"]] for mhc_type in [True, False]]\n",
    "# mhc_cols = [\"Chopped\", \"Strong Binder\", \"Weak Binder\", \"Non Binder\"]\n",
    "mhc_cols = [\"N-glycolized\", \"Binder\", \"count\"]\n",
    "\n",
    "mhcpan_by_category_df = pd.DataFrame(mhc_rows, columns=mhc_cols)"
   ]
  },
  {
   "cell_type": "code",
   "execution_count": null,
   "metadata": {
    "pycharm": {
     "name": "#%%\n"
    }
   },
   "outputs": [],
   "source": [
    "sns.set_theme(style=\"whitegrid\")\n",
    "sns.set(rc = {'figure.figsize':(25,8)})\n",
    "sns.set(font_scale = 1.2)\n",
    "\n",
    "ax = sns.barplot(x=\"N-glycolized\", y=\"count\", hue=\"Binder\", data=mhcpan_by_category_df)\n",
    "ax.set(yscale=\"log\")\n",
    "ax.set_title('NETMHCPAN score types count by N-glycolized type')\n",
    "\n",
    "plt.legend(bbox_to_anchor=(1.02, 1), loc='upper left', borderaxespad=0)\n",
    "plt.savefig(\"plots/NETMHCPAN_score_types_count_glyc\", dpi=500, bbox_inches='tight')\n"
   ]
  },
  {
   "cell_type": "code",
   "execution_count": null,
   "metadata": {
    "pycharm": {
     "name": "#%%\n"
    }
   },
   "outputs": [],
   "source": []
  }
 ],
 "metadata": {
  "interpreter": {
   "hash": "a8b226d70e0bf4bf2c26cc88f5d7b41a5689a86d8c70c730eebfc7443e5307d4"
  },
  "kernelspec": {
   "display_name": "Python 3 (ipykernel)",
   "language": "python",
   "name": "python3"
  },
  "language_info": {
   "codemirror_mode": {
    "name": "ipython",
    "version": 3
   },
   "file_extension": ".py",
   "mimetype": "text/x-python",
   "name": "python",
   "nbconvert_exporter": "python",
   "pygments_lexer": "ipython3",
   "version": "3.8.9"
  }
 },
 "nbformat": 4,
 "nbformat_minor": 2
}
