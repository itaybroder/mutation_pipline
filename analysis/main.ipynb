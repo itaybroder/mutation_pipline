{
 "cells": [
  {
   "cell_type": "code",
   "execution_count": 1,
   "metadata": {},
   "outputs": [],
   "source": [
    "import pandas as pd \n",
    "import matplotlib.pyplot as plt\n",
    "import seaborn as sns\n",
    "import numpy as np "
   ]
  },
  {
   "cell_type": "code",
   "execution_count": 5,
   "metadata": {},
   "outputs": [],
   "source": [
    "base_df = pd.read_csv(\"../data/output_files/final_base_df.csv\")"
   ]
  },
  {
   "cell_type": "code",
   "execution_count": 6,
   "metadata": {},
   "outputs": [],
   "source": [
    "varient_list = list(set(base_df[\"varient\"]))"
   ]
  },
  {
   "cell_type": "markdown",
   "metadata": {},
   "source": [
    "# Chopped analysis"
   ]
  },
  {
   "cell_type": "code",
   "execution_count": 7,
   "metadata": {},
   "outputs": [
    {
     "name": "stdout",
     "output_type": "stream",
     "text": [
      "{'AY.4.2': {'chopped': 1165, 'not chopped': 2627}, 'Omicron BA.1': {'chopped': 1165, 'not chopped': 2627}, 'C.1.2': {'chopped': 1162, 'not chopped': 2630}, 'Gamma P.1': {'chopped': 1165, 'not chopped': 2627}, 'Eta B.1.525': {'chopped': 1162, 'not chopped': 2630}, 'Lambda C.37': {'chopped': 1159, 'not chopped': 2633}, 'Kappa B.1.617.1': {'chopped': 1165, 'not chopped': 2627}, 'Delta B.1.617.2': {'chopped': 1165, 'not chopped': 2627}, 'Omicron BA.2': {'chopped': 1162, 'not chopped': 2630}, 'Beta B.1.351': {'chopped': 1162, 'not chopped': 2630}, 'Alpha B.1.1.7': {'chopped': 1159, 'not chopped': 2630}, 'Iota B.1.526': {'chopped': 1162, 'not chopped': 2630}, 'original': {'chopped': 1160, 'not chopped': 2632}, 'Mu B.1.621': {'chopped': 1162, 'not chopped': 2630}}\n"
     ]
    }
   ],
   "source": [
    "varient_chopped_counter = {}\n",
    "for varient in varient_list:\n",
    "    chopped_counter = len(base_df[(base_df[\"varient\"] == varient )&(base_df[\"Chopped\"] == True)])\n",
    "    not_chopped_counter = len(base_df[(base_df[\"varient\"] == varient) & (base_df[\"Chopped\"] == False)])\n",
    "    varient_chopped_counter[varient] = {\"chopped\":chopped_counter, \"not chopped\":not_chopped_counter}\n",
    "\n",
    "print(varient_chopped_counter)"
   ]
  },
  {
   "cell_type": "code",
   "execution_count": null,
   "metadata": {},
   "outputs": [],
   "source": [
    "labels = varient_list\n",
    "chopped_counter = (np.divide(list(chopped_dict.values()), number_of_chooped) * 10000).astype(int) / 100\n",
    "nchopped_counter = (np.divide(list(nchopped_dict.values()), number_of_unChopped) * 10000).astype(int) / 100\n",
    "\n",
    "x = np.arange(len(labels))  # the label locations\n",
    "width = 0.35  # the width of the bars\n",
    "\n",
    "fig, ax = plt.subplots()\n",
    "fig.set_figheight(9)\n",
    "fig.set_figwidth(25)\n",
    "fig.set_dpi(200)\n",
    "rects1 = ax.bar(x - width/2, chopped_counter, width)\n",
    "\n",
    "# Add some text for labels, title and custom x-axis tick labels, etc.\n",
    "ax.set_ylabel('Scores')\n",
    "ax.set_title('Predicted to be chopped by amino acids')\n",
    "print(x)\n",
    "print(labels)\n",
    "ax.set_xticks(x, labels)\n",
    "ax.legend()\n",
    "\n",
    "ax.bar_label(rects1, padding=3)\n",
    "ax.bar_label(rects2, padding=3)\n",
    "\n",
    "fig.tight_layout()\n",
    "plt.xlabel(\"amino acids\")\n",
    "plt.ylabel(\"amount\")\n",
    "plt.savefig(\"plots/aminoacids-chopped-amount.png\", dpi=500, bbox_inches='tight')\n",
    "plt.show()"
   ]
  }
 ],
 "metadata": {
  "interpreter": {
   "hash": "a8b226d70e0bf4bf2c26cc88f5d7b41a5689a86d8c70c730eebfc7443e5307d4"
  },
  "kernelspec": {
   "display_name": "Python 3.10.1 64-bit",
   "language": "python",
   "name": "python3"
  },
  "language_info": {
   "codemirror_mode": {
    "name": "ipython",
    "version": 3
   },
   "file_extension": ".py",
   "mimetype": "text/x-python",
   "name": "python",
   "nbconvert_exporter": "python",
   "pygments_lexer": "ipython3",
   "version": "3.10.1"
  },
  "orig_nbformat": 4
 },
 "nbformat": 4,
 "nbformat_minor": 2
}
